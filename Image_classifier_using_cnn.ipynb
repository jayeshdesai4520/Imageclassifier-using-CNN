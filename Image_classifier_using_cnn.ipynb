{
 "cells": [
  {
   "cell_type": "code",
   "execution_count": 1,
   "metadata": {},
   "outputs": [
    {
     "name": "stderr",
     "output_type": "stream",
     "text": [
      "C:\\Users\\admin\\Anaconda3\\lib\\site-packages\\h5py\\__init__.py:36: FutureWarning: Conversion of the second argument of issubdtype from `float` to `np.floating` is deprecated. In future, it will be treated as `np.float64 == np.dtype(float).type`.\n",
      "  from ._conv import register_converters as _register_converters\n",
      "Using TensorFlow backend.\n"
     ]
    }
   ],
   "source": [
    "from keras.models import Sequential\n",
    "from keras.layers import Conv2D\n",
    "from keras.layers import MaxPooling2D\n",
    "from keras.layers import Flatten\n",
    "from keras.layers import Dense"
   ]
  },
  {
   "cell_type": "code",
   "execution_count": 2,
   "metadata": {},
   "outputs": [],
   "source": [
    "classifier = Sequential()\n"
   ]
  },
  {
   "cell_type": "code",
   "execution_count": 3,
   "metadata": {},
   "outputs": [],
   "source": [
    "classifier.add(Conv2D(32, (3, 3), input_shape = (64, 64, 3), activation = 'relu'))"
   ]
  },
  {
   "cell_type": "code",
   "execution_count": 4,
   "metadata": {},
   "outputs": [],
   "source": [
    "classifier.add(MaxPooling2D(pool_size = (2, 2)))"
   ]
  },
  {
   "cell_type": "code",
   "execution_count": 5,
   "metadata": {},
   "outputs": [],
   "source": [
    "classifier.add(Conv2D(32, (3, 3), activation = 'relu'))\n",
    "classifier.add(MaxPooling2D(pool_size = (2, 2)))"
   ]
  },
  {
   "cell_type": "code",
   "execution_count": 6,
   "metadata": {},
   "outputs": [],
   "source": [
    "classifier.add(Flatten())"
   ]
  },
  {
   "cell_type": "code",
   "execution_count": 7,
   "metadata": {},
   "outputs": [],
   "source": [
    "classifier.add(Dense(units = 128, activation = 'relu'))\n",
    "classifier.add(Dense(units = 1, activation = 'sigmoid'))"
   ]
  },
  {
   "cell_type": "code",
   "execution_count": 8,
   "metadata": {},
   "outputs": [],
   "source": [
    "classifier.compile(optimizer = 'adam', loss = 'binary_crossentropy', metrics = ['accuracy'])"
   ]
  },
  {
   "cell_type": "code",
   "execution_count": 9,
   "metadata": {},
   "outputs": [
    {
     "name": "stdout",
     "output_type": "stream",
     "text": [
      "Found 66 images belonging to 2 classes.\n",
      "Found 44 images belonging to 2 classes.\n"
     ]
    }
   ],
   "source": [
    "from keras.preprocessing.image import ImageDataGenerator\n",
    "\n",
    "train_datagen = ImageDataGenerator(rescale = 1./255,\n",
    "                                   shear_range = 0.2,\n",
    "                                   zoom_range = 0.2,\n",
    "                                   horizontal_flip = True)\n",
    "\n",
    "test_datagen = ImageDataGenerator(rescale = 1./255)\n",
    "\n",
    "training_set = train_datagen.flow_from_directory(r'C:\\Users\\admin\\Desktop\\Dataset\\training_set',\n",
    "                                                 target_size = (64, 64),\n",
    "                                                 batch_size = 32,\n",
    "                                                 class_mode = 'binary')\n",
    "\n",
    "test_set = test_datagen.flow_from_directory(r'C:\\Users\\admin\\Desktop\\Dataset\\test_set',\n",
    "                                            target_size = (64, 64),\n",
    "                                            batch_size = 32,\n",
    "                                            class_mode = 'binary')"
   ]
  },
  {
   "cell_type": "code",
   "execution_count": 11,
   "metadata": {},
   "outputs": [
    {
     "name": "stdout",
     "output_type": "stream",
     "text": [
      "Epoch 1/25\n",
      "66/66 [==============================] - 26s 391ms/step - loss: 0.6523 - acc: 0.6138 - val_loss: 0.7048 - val_acc: 0.6364\n",
      "Epoch 2/25\n",
      "66/66 [==============================] - 23s 348ms/step - loss: 0.4123 - acc: 0.8024 - val_loss: 0.9934 - val_acc: 0.5000\n",
      "Epoch 3/25\n",
      "66/66 [==============================] - 23s 346ms/step - loss: 0.2377 - acc: 0.9032 - val_loss: 1.9684 - val_acc: 0.4545\n",
      "Epoch 4/25\n",
      "66/66 [==============================] - 23s 348ms/step - loss: 0.1683 - acc: 0.9402 - val_loss: 1.3288 - val_acc: 0.5227\n",
      "Epoch 5/25\n",
      "66/66 [==============================] - 23s 349ms/step - loss: 0.0478 - acc: 0.9938 - val_loss: 1.8762 - val_acc: 0.5000\n",
      "Epoch 6/25\n",
      "66/66 [==============================] - 23s 348ms/step - loss: 0.0423 - acc: 0.9909 - val_loss: 1.9768 - val_acc: 0.5000\n",
      "Epoch 7/25\n",
      "66/66 [==============================] - 23s 356ms/step - loss: 0.0116 - acc: 0.9986 - val_loss: 2.1991 - val_acc: 0.5227\n",
      "Epoch 8/25\n",
      "66/66 [==============================] - 23s 351ms/step - loss: 0.0049 - acc: 0.9995 - val_loss: 2.3039 - val_acc: 0.5000\n",
      "Epoch 9/25\n",
      "66/66 [==============================] - 23s 348ms/step - loss: 0.0038 - acc: 1.0000 - val_loss: 2.3965 - val_acc: 0.4318\n",
      "Epoch 10/25\n",
      "66/66 [==============================] - 23s 347ms/step - loss: 0.0021 - acc: 1.0000 - val_loss: 2.5647 - val_acc: 0.4318\n",
      "Epoch 11/25\n",
      "66/66 [==============================] - 23s 348ms/step - loss: 0.0026 - acc: 1.0000 - val_loss: 2.7813 - val_acc: 0.5000\n",
      "Epoch 12/25\n",
      "66/66 [==============================] - 23s 348ms/step - loss: 9.7869e-04 - acc: 1.0000 - val_loss: 2.6490 - val_acc: 0.4773\n",
      "Epoch 13/25\n",
      "66/66 [==============================] - 23s 347ms/step - loss: 9.2472e-04 - acc: 1.0000 - val_loss: 2.6247 - val_acc: 0.4318\n",
      "Epoch 14/25\n",
      "66/66 [==============================] - 23s 350ms/step - loss: 0.0012 - acc: 1.0000 - val_loss: 2.6545 - val_acc: 0.5227\n",
      "Epoch 15/25\n",
      "66/66 [==============================] - 23s 351ms/step - loss: 5.8521e-04 - acc: 1.0000 - val_loss: 2.8471 - val_acc: 0.5227\n",
      "Epoch 16/25\n",
      "66/66 [==============================] - 23s 348ms/step - loss: 5.0997e-04 - acc: 1.0000 - val_loss: 3.0104 - val_acc: 0.5227\n",
      "Epoch 17/25\n",
      "66/66 [==============================] - 23s 347ms/step - loss: 5.6791e-04 - acc: 1.0000 - val_loss: 2.8167 - val_acc: 0.4773\n",
      "Epoch 18/25\n",
      "66/66 [==============================] - 23s 350ms/step - loss: 4.2073e-04 - acc: 1.0000 - val_loss: 2.7836 - val_acc: 0.5227\n",
      "Epoch 19/25\n",
      "66/66 [==============================] - 23s 350ms/step - loss: 4.2358e-04 - acc: 1.0000 - val_loss: 2.7470 - val_acc: 0.4773\n",
      "Epoch 20/25\n",
      "66/66 [==============================] - 23s 348ms/step - loss: 3.4117e-04 - acc: 1.0000 - val_loss: 2.8386 - val_acc: 0.5227\n",
      "Epoch 21/25\n",
      "66/66 [==============================] - 23s 353ms/step - loss: 2.5757e-04 - acc: 1.0000 - val_loss: 2.8882 - val_acc: 0.4773\n",
      "Epoch 22/25\n",
      "66/66 [==============================] - 23s 349ms/step - loss: 5.5548e-04 - acc: 1.0000 - val_loss: 2.7641 - val_acc: 0.5455\n",
      "Epoch 23/25\n",
      "66/66 [==============================] - 23s 349ms/step - loss: 3.2314e-04 - acc: 1.0000 - val_loss: 3.1674 - val_acc: 0.5000\n",
      "Epoch 24/25\n",
      "66/66 [==============================] - 23s 350ms/step - loss: 2.2795e-04 - acc: 1.0000 - val_loss: 3.0160 - val_acc: 0.5000\n",
      "Epoch 25/25\n",
      "66/66 [==============================] - 23s 348ms/step - loss: 1.5330e-04 - acc: 1.0000 - val_loss: 3.0087 - val_acc: 0.5000\n"
     ]
    },
    {
     "data": {
      "text/plain": [
       "<keras.callbacks.History at 0x219c5f3e588>"
      ]
     },
     "execution_count": 11,
     "metadata": {},
     "output_type": "execute_result"
    }
   ],
   "source": [
    "classifier.fit_generator(training_set,\n",
    "                         steps_per_epoch = 66,\n",
    "                         epochs = 25,\n",
    "                         validation_data = test_set,\n",
    "                         validation_steps = 44)"
   ]
  },
  {
   "cell_type": "code",
   "execution_count": 19,
   "metadata": {},
   "outputs": [
    {
     "name": "stdout",
     "output_type": "stream",
     "text": [
      "[[1.]]\n"
     ]
    }
   ],
   "source": [
    "import numpy as np\n",
    "from keras.preprocessing import image\n",
    "test_image = image.load_img(r'C:\\Users\\admin\\Desktop\\Dataset/single_prediction/dog.4107.jpg', target_size = (64, 64))\n",
    "test_image = image.img_to_array(test_image)\n",
    "test_image = np.expand_dims(test_image, axis = 0)\n",
    "result = classifier.predict(test_image)\n",
    "training_set.class_indices\n",
    " \n",
    "print(classifier.predict(test_image))"
   ]
  },
  {
   "cell_type": "code",
   "execution_count": null,
   "metadata": {},
   "outputs": [],
   "source": []
  }
 ],
 "metadata": {
  "kernelspec": {
   "display_name": "Python 3",
   "language": "python",
   "name": "python3"
  },
  "language_info": {
   "codemirror_mode": {
    "name": "ipython",
    "version": 3
   },
   "file_extension": ".py",
   "mimetype": "text/x-python",
   "name": "python",
   "nbconvert_exporter": "python",
   "pygments_lexer": "ipython3",
   "version": "3.6.5"
  }
 },
 "nbformat": 4,
 "nbformat_minor": 2
}
